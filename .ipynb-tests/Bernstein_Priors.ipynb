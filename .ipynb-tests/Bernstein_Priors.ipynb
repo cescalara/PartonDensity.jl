{
 "cells": [
  {
   "cell_type": "code",
   "execution_count": null,
   "metadata": {},
   "outputs": [],
   "source": [
    "using Plots\n",
    "using Distributions\n",
    "using Random"
   ]
  },
  {
   "cell_type": "code",
   "execution_count": null,
   "metadata": {},
   "outputs": [],
   "source": [
    "x_grid = range(0.0, stop=1.0, length=1000)\n",
    "function bs_poly(x::Float64, v::Integer, n::Integer)\n",
    "    \n",
    "    binomial(n, v) * x^v * (1 - x)^(n - v)\n",
    "    \n",
    "end\n",
    "function x_uv_x(x::Float64, U_list::Vector{Float64})\n",
    "    \n",
    "    return x * (U_list[1] * bs_poly(x, 0, 3) + U_list[2] * bs_poly(x, 0, 4) + \n",
    "                U_list[3] * bs_poly(x, 1, 4) + U_list[4] * bs_poly(x, 0, 5))\n",
    "    \n",
    "end"
   ]
  },
  {
   "cell_type": "code",
   "execution_count": null,
   "metadata": {
    "scrolled": false
   },
   "outputs": [],
   "source": [
    "#U_1, U_2, U_3 range from 0 to 5, U_4 gets scaled according to the integral value of 2\n",
    "a = 0\n",
    "b = 5\n",
    "p = plot()\n",
    "positive = true\n",
    "for i in 1:100\n",
    "    U_1 = round(rand(Uniform(a, b)), digits = 3)\n",
    "    U_2 = round(rand(Uniform(a, b)), digits = 3)\n",
    "    U_3 = round(rand(Uniform(a, b)), digits = 3)\n",
    "    U_4 = round(6*(2-U_1/4-U_2/5-U_3/5), digits = 3)\n",
    "    U_list = [U_1, U_2, U_3, U_4]\n",
    "    p = plot!(x_grid, [x_uv_x(x, U_list) for x in x_grid], label = false, color = \"blue\", lw=3, alpha = 0.1)\n",
    "    if any(x->x<0, [x_uv_x(x, U_list) for x in x_grid])\n",
    "        positive = false\n",
    "    end\n",
    "end\n",
    "display(p)\n",
    "print(positive)"
   ]
  },
  {
   "cell_type": "code",
   "execution_count": null,
   "metadata": {},
   "outputs": [],
   "source": [
    "#U_1, U_2, U_4 range from 0 to 3.5, U_3 gets scaled according to the integral value of 2\n",
    "a = 0\n",
    "b = 3.5\n",
    "p = plot()\n",
    "positive = true\n",
    "for i in 1:100\n",
    "    U_1 = round(rand(Uniform(a, b)), digits = 3)\n",
    "    U_2 = round(rand(Uniform(a, b)), digits = 3)\n",
    "    U_4 = round(rand(Uniform(a, b)), digits = 3)\n",
    "    U_3 = round(5*(2-U_1/4-U_2/5-U_4/6), digits = 3)\n",
    "    U_list = [U_1, U_2, U_3, U_4]\n",
    "    p = plot!(x_grid, [x_uv_x(x, U_list) for x in x_grid], label = false, color = \"blue\", lw=3, alpha = 0.1)\n",
    "    if any(x->x<0, [x_uv_x(x, U_list) for x in x_grid])\n",
    "        positive = false\n",
    "    end\n",
    "end\n",
    "display(p)\n",
    "print(positive)"
   ]
  },
  {
   "cell_type": "code",
   "execution_count": null,
   "metadata": {},
   "outputs": [],
   "source": [
    "#U_1, U_3, U_4 range from 0 to 5, U_2 gets scaled according to the integral value of 2\n",
    "a = 0\n",
    "b = 5\n",
    "p = plot()\n",
    "positive = true\n",
    "for i in 1:100\n",
    "    U_1 = round(rand(Uniform(a, b)), digits = 3)\n",
    "    U_3 = round(rand(Uniform(a, b)), digits = 3)\n",
    "    U_4 = round(rand(Uniform(a, b)), digits = 3)\n",
    "    U_2 = round(5*(2-U_1/4-U_3/5-U_4/6), digits = 3)\n",
    "    U_list = [U_1, U_2, U_3, U_4]\n",
    "    p = plot!(x_grid, [x_uv_x(x, U_list) for x in x_grid], label = false, color = \"blue\", lw=3, alpha = 0.1)\n",
    "    if any(x->x<0, [x_uv_x(x, U_list) for x in x_grid])\n",
    "        positive = false\n",
    "    end\n",
    "end\n",
    "display(p)\n",
    "print(positive)"
   ]
  },
  {
   "cell_type": "code",
   "execution_count": null,
   "metadata": {},
   "outputs": [],
   "source": [
    "#U_2, U_3, U_4 range from 0 to 5, U_1 gets scaled according to the integral value of 2\n",
    "a = 0\n",
    "b = 5\n",
    "p = plot()\n",
    "positive = true\n",
    "for i in 1:100\n",
    "    U_2 = round(rand(Uniform(a, b)), digits = 3)\n",
    "    U_3 = round(rand(Uniform(a, b)), digits = 3)\n",
    "    U_4 = round(rand(Uniform(a, b)), digits = 3)\n",
    "    U_1 = round(4*(2-U_2/5-U_3/5-U_4/6), digits = 3)\n",
    "    U_list = [U_1, U_2, U_3, U_4]\n",
    "    p = plot!(x_grid, [x_uv_x(x, U_list) for x in x_grid], label = false, color = \"blue\", lw=3, alpha = 0.1)\n",
    "    if any(x->x<0, [x_uv_x(x, U_list) for x in x_grid])\n",
    "        positive = false\n",
    "    end\n",
    "end\n",
    "display(p)\n",
    "print(positive)"
   ]
  },
  {
   "cell_type": "code",
   "execution_count": null,
   "metadata": {},
   "outputs": [],
   "source": [
    "#Using the Dirichlet dist. to get all parameters scaled according to integral value 2\n",
    "using PartonDensity\n",
    "using SpecialFunctions\n",
    "a = 0\n",
    "b = 5000\n",
    "p = plot()\n",
    "positive = true\n",
    "for i in 1:1000\n",
    "    U_2 = round(rand(Uniform(a, b)), digits = 3)\n",
    "    U_3 = round(rand(Uniform(a, b)), digits = 3)\n",
    "    U_4 = round(rand(Uniform(a, b)), digits = 3)\n",
    "    U_1 = round(rand(Uniform(a, b)), digits = 3)\n",
    "    U_list = get_scaled_UD(rand(Dirichlet([U_1, U_2, U_3, U_4])), 2)\n",
    "    p = plot!(x_grid, [x_uv_x(x, U_list) for x in x_grid], label = false, color = \"blue\", lw=3, alpha = 0.1)\n",
    "    if any(x->x<0, [x_uv_x(x, U_list) for x in x_grid])\n",
    "        positive = false\n",
    "    end\n",
    "end\n",
    "display(p)\n",
    "print(positive)"
   ]
  },
  {
   "cell_type": "code",
   "execution_count": null,
   "metadata": {},
   "outputs": [],
   "source": [
    "#U_1, U_2, U_3 range from -20 to 10, U_4 gets scaled according to the integral value of 2\n",
    "#every negative curve gets removed from the plot\n",
    "a = -20\n",
    "b = 10\n",
    "p = plot()\n",
    "count = 0\n",
    "iterations = 2000\n",
    "umedian = zeros(4)\n",
    "for i in 1:iterations\n",
    "    U_1 = round(rand(Uniform(a, b)), digits = 3)\n",
    "    U_2 = round(rand(Uniform(a, b)), digits = 3)\n",
    "    U_3 = round(rand(Uniform(a, b)), digits = 3)\n",
    "    U_4 = round(6*(2-U_1/4-U_2/5-U_3/5), digits = 3)\n",
    "    U_list = [U_1, U_2, U_3, U_4]\n",
    "    if any(x->x<0, [x_uv_x(x, U_list) for x in x_grid])\n",
    "        continue\n",
    "    else\n",
    "        p = plot!(x_grid, [x_uv_x(x, U_list) for x in x_grid], label = false, color = \"blue\", lw=3, alpha = 0.1)\n",
    "        count += 1\n",
    "        umedian += U_list\n",
    "    end\n",
    "end\n",
    "display(p)\n",
    "println(\"non-negative curves: \", count, \" out of $iterations\", \"\\n\", \"average parameter value: \", umedian/count)"
   ]
  },
  {
   "cell_type": "code",
   "execution_count": null,
   "metadata": {},
   "outputs": [],
   "source": []
  }
 ],
 "metadata": {
  "kernelspec": {
   "display_name": "Julia 1.7.2",
   "language": "julia",
   "name": "julia-1.7"
  },
  "language_info": {
   "file_extension": ".jl",
   "mimetype": "application/julia",
   "name": "julia",
   "version": "1.7.2"
  },
  "widgets": {
   "application/vnd.jupyter.widget-state+json": {
    "state": {},
    "version_major": 2,
    "version_minor": 0
   }
  }
 },
 "nbformat": 4,
 "nbformat_minor": 4
}
